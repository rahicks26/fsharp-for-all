{
 "cells": [
  {
   "cell_type": "markdown",
   "metadata": {},
   "source": [
    "# Functional Programming Overview\n",
    "Functional Programming is a style of programming that tries to improve the quality of code by keeping your code:\n",
    "- Declarative \n",
    "- Immutable \n",
    "- Transparent \n",
    "\n",
    "Before we dig into this let's do a quick walk through in javaScript, C# and F# so we have a baseline. The javaScript and C# will be written in a more imperative style while the F# will not. It is possible to write C# and javaScript in a declarative fashion, but that is not the point here.\n",
    "\n",
    "## Walk through\n",
    "Let's start our adventure by looking at some very basic examples. To get the ball rolling let's say we want to sum all the numbers from 0 to 20."
   ]
  },
  {
   "cell_type": "code",
   "execution_count": null,
   "metadata": {
    "dotnet_interactive": {
     "language": "javascript"
    },
    "vscode": {
     "languageId": "dotnet-interactive.javascript"
    }
   },
   "outputs": [
    {
     "data": {
      "text/plain": [
       "sum: 210"
      ]
     },
     "metadata": {},
     "output_type": "display_data"
    }
   ],
   "source": [
    "let acc = 0;\n",
    "for(let i = 0; i <= 20; i++){\n",
    "    acc = acc + i;\n",
    "}\n",
    "console.log(`sum: ${acc}`);"
   ]
  },
  {
   "cell_type": "code",
   "execution_count": null,
   "metadata": {
    "dotnet_interactive": {
     "language": "csharp"
    },
    "vscode": {
     "languageId": "dotnet-interactive.csharp"
    }
   },
   "outputs": [
    {
     "name": "stdout",
     "output_type": "stream",
     "text": [
      "sum: 210\n"
     ]
    }
   ],
   "source": [
    "using System;\n",
    "\n",
    "var acc = 0;\n",
    "for (var i=0; i <=20; i++){\n",
    "    acc = acc + i;\n",
    "}\n",
    "\n",
    "Console.WriteLine($\"sum: {acc}\");"
   ]
  },
  {
   "cell_type": "code",
   "execution_count": null,
   "metadata": {
    "dotnet_interactive": {
     "language": "fsharp"
    },
    "vscode": {
     "languageId": "dotnet-interactive.fsharp"
    }
   },
   "outputs": [
    {
     "name": "stdout",
     "output_type": "stream",
     "text": [
      "sum: 210\n"
     ]
    }
   ],
   "source": [
    "let acc = \n",
    "    [0..20] \n",
    "    |> List.sum\n",
    "    \n",
    "printfn \"sum: %d\" acc"
   ]
  },
  {
   "cell_type": "markdown",
   "metadata": {},
   "source": [
    "Now let's add a bit more to the example problem. Suppose we need to also square each number."
   ]
  },
  {
   "cell_type": "code",
   "execution_count": null,
   "metadata": {
    "dotnet_interactive": {
     "language": "javascript"
    },
    "vscode": {
     "languageId": "dotnet-interactive.javascript"
    }
   },
   "outputs": [
    {
     "data": {
      "text/plain": [
       "sum: 2870"
      ]
     },
     "metadata": {},
     "output_type": "display_data"
    }
   ],
   "source": [
    "let acc = 0;\n",
    "for(let i = 0; i <= 20; i++){\n",
    "    const square = i * i;\n",
    "    acc = acc + square;\n",
    "}\n",
    "console.log(`sum: ${acc}`);"
   ]
  },
  {
   "cell_type": "code",
   "execution_count": null,
   "metadata": {
    "dotnet_interactive": {
     "language": "csharp"
    },
    "vscode": {
     "languageId": "dotnet-interactive.csharp"
    }
   },
   "outputs": [
    {
     "name": "stdout",
     "output_type": "stream",
     "text": [
      "sum: 2870\n"
     ]
    }
   ],
   "source": [
    "using System;\n",
    "\n",
    "var acc = 0;\n",
    "for (var i=0; i <=20; i++){\n",
    "    var square = i * i;\n",
    "    acc = acc + square;\n",
    "}\n",
    "\n",
    "Console.WriteLine($\"sum: {acc}\");"
   ]
  },
  {
   "cell_type": "code",
   "execution_count": null,
   "metadata": {
    "dotnet_interactive": {
     "language": "fsharp"
    },
    "vscode": {
     "languageId": "dotnet-interactive.fsharp"
    }
   },
   "outputs": [
    {
     "name": "stdout",
     "output_type": "stream",
     "text": [
      "sum: 2870\n"
     ]
    }
   ],
   "source": [
    "let square i = i * i\n",
    "let acc = \n",
    "    [0..20] \n",
    "    |> List.map square\n",
    "    |> List.sum\n",
    "    \n",
    "printfn \"sum: %d\" acc"
   ]
  },
  {
   "cell_type": "markdown",
   "metadata": {},
   "source": [
    "Let's make one more small tweak. Now we want to skip all the odd numbers and then sum the squares."
   ]
  },
  {
   "cell_type": "code",
   "execution_count": null,
   "metadata": {
    "dotnet_interactive": {
     "language": "javascript"
    },
    "vscode": {
     "languageId": "dotnet-interactive.javascript"
    }
   },
   "outputs": [
    {
     "data": {
      "text/plain": [
       "sum: 1540"
      ]
     },
     "metadata": {},
     "output_type": "display_data"
    }
   ],
   "source": [
    "let acc = 0;\n",
    "for(let i = 0; i <= 20; i++){\n",
    "    if(i % 2 === 0){\n",
    "        const square = i * i;\n",
    "        acc = acc + square;\n",
    "    }   \n",
    "}\n",
    "console.log(`sum: ${acc}`);"
   ]
  },
  {
   "cell_type": "code",
   "execution_count": null,
   "metadata": {
    "dotnet_interactive": {
     "language": "csharp"
    },
    "vscode": {
     "languageId": "dotnet-interactive.csharp"
    }
   },
   "outputs": [
    {
     "name": "stdout",
     "output_type": "stream",
     "text": [
      "sum: 1540\n"
     ]
    }
   ],
   "source": [
    "using System;\n",
    "\n",
    "var acc = 0;\n",
    "for (var i=0; i <=20; i++){\n",
    "    if( i % 2 == 0){\n",
    "        var square = i * i;\n",
    "        acc = acc + square;\n",
    "    }\n",
    "}\n",
    "\n",
    "Console.WriteLine($\"sum: {acc}\");"
   ]
  },
  {
   "cell_type": "code",
   "execution_count": null,
   "metadata": {
    "dotnet_interactive": {
     "language": "fsharp"
    },
    "vscode": {
     "languageId": "dotnet-interactive.fsharp"
    }
   },
   "outputs": [
    {
     "name": "stdout",
     "output_type": "stream",
     "text": [
      "sum: 1540\n"
     ]
    }
   ],
   "source": [
    "let square i = i * i\n",
    "let isEven i = i % 2 = 0\n",
    "let acc = \n",
    "    [0..20] \n",
    "    |> List.filter isEven \n",
    "    |> List.map square\n",
    "    |> List.sum\n",
    "    \n",
    "printfn \"sum: %d\" acc"
   ]
  },
  {
   "cell_type": "markdown",
   "metadata": {},
   "source": [
    "Now that we have walked through just a bit of code, let's dig into it more. We want to understand the core concepts at play here.\n",
    "\n",
    "## Core Concepts\n",
    "Know that we have had a chance to play with the a bit of code let's unpack it a bit, and try to understand it. We can start by understanding what it means to say code is declarative. \n",
    "\n",
    "### Declarative \n",
    "In functional programming we favor code that does not focus on the low level details. We do this by having small reusable functions that can be used over and over. This can make your solution very easy to read and reason about, because you declare your intention with your code instead of focusing on the implantation. A great example here is we don't know or care how `List.map` or `List.filter` are working at this level, but we know that they will be applied to the whole `list`.\n",
    "\n",
    "### Immutable\n",
    "So it may seem crazy if you have been developing for a while to say that we should prefer immutable values, but reflect back on our examples. Was it possible for use to incorrectly sum the values up in F#? Did we set the initial state or define how to sum it up? Nope.. When you prefer immutable code you reduce the amount of things to reason about in your solution. And F# was designed with this in mind. If you need mutation you have to opt in with the `mutable` key word like so:\n",
    "\n",
    "```fsharp\n",
    "let mutable acc = 0\n",
    "acc <- acc + 1\n",
    "```\n",
    "You can see that assignment is not `=` too. We will touch on this again later, but it is very clear in F# what can be mutated and where that happens generally.\n",
    "\n",
    "### Transparent\n",
    "In functional programming you want to make it clear what is required of and returned from a function. We do this by avoiding heavy use of side effects and instead making things explicit via their type or signature. So instead of:\n",
    "\n",
    "- throwing an exception you would return an error or a result\n",
    "- returning null you would return something or nothing\n",
    "\n",
    "There is much more to consider here, but for now let's just say we want our functions to be honest about what they do. If they return a number then we always want to know we will get a number.\n",
    "\n",
    "## Next Steps\n",
    "\n",
    "You are welcome to run these examples locally and play with them as much as you like to get a richer understanding. We also have exercises ready for you in `fp-overview.exercises`"
   ]
  }
 ],
 "metadata": {
  "kernelspec": {
   "display_name": ".NET (C#)",
   "language": "C#",
   "name": ".net-csharp"
  },
  "language_info": {
   "file_extension": ".cs",
   "mimetype": "text/x-csharp",
   "name": "C#",
   "pygments_lexer": "csharp",
   "version": "9.0"
  },
  "orig_nbformat": 4,
  "vscode": {
   "interpreter": {
    "hash": "31f2aee4e71d21fbe5cf8b01ff0e069b9275f58929596ceb00d14d90e3e16cd6"
   }
  }
 },
 "nbformat": 4,
 "nbformat_minor": 2
}
