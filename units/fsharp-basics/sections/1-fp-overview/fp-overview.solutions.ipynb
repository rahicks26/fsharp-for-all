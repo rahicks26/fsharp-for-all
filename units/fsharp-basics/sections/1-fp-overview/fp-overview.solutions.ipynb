{
 "cells": [
  {
   "cell_type": "markdown",
   "metadata": {},
   "source": [
    "# Solutions \n",
    "Here are some working solutions for each exercise in `fp-overview.exercises`"
   ]
  },
  {
   "cell_type": "markdown",
   "metadata": {},
   "source": [
    "## Exercise 1\n",
    "Write an F# function that finds the mean without mutation.\n"
   ]
  },
  {
   "cell_type": "code",
   "execution_count": null,
   "metadata": {
    "dotnet_interactive": {
     "language": "fsharp"
    },
    "vscode": {
     "languageId": "dotnet-interactive.fsharp"
    }
   },
   "outputs": [
    {
     "data": {
      "text/html": [
       "<div class=\"dni-plaintext\">10</div>"
      ]
     },
     "metadata": {},
     "output_type": "display_data"
    }
   ],
   "source": [
    "let inline mean list = \n",
    "    let sum = \n",
    "        list |> List.sum |> float\n",
    "\n",
    "    let count = \n",
    "        list |> List.length |> float\n",
    "\n",
    "    sum / count\n",
    "\n",
    "[0..20]\n",
    "|> mean\n",
    "\n",
    "// Or ;) \n",
    "// We will touch on this more later\n",
    "let mean' = \n",
    "    (List.map float) \n",
    "    >> List.average\n",
    "\n",
    "[0..20]\n",
    "|> mean'\n"
   ]
  },
  {
   "cell_type": "markdown",
   "metadata": {},
   "source": [
    "## Exercise 2\n",
    "Write an F# function that returns the most frequently occurring value without mutation."
   ]
  },
  {
   "cell_type": "code",
   "execution_count": null,
   "metadata": {
    "dotnet_interactive": {
     "language": "fsharp"
    },
    "vscode": {
     "languageId": "dotnet-interactive.fsharp"
    }
   },
   "outputs": [
    {
     "data": {
      "text/html": [
       "<div class=\"dni-plaintext\">1</div>"
      ]
     },
     "metadata": {},
     "output_type": "display_data"
    }
   ],
   "source": [
    "let mode =    \n",
    "    List.countBy id\n",
    "    >> List.maxBy snd\n",
    "    >> fst\n",
    "\n",
    "[1;1;1;2;2]\n",
    "|> mode"
   ]
  },
  {
   "cell_type": "markdown",
   "metadata": {},
   "source": [
    "## Exercise 3\n",
    "How can you write a function that shuffles a deck of cards but is Declarative, Immutable and Transparent? "
   ]
  },
  {
   "cell_type": "code",
   "execution_count": null,
   "metadata": {
    "dotnet_interactive": {
     "language": "fsharp"
    },
    "vscode": {
     "languageId": "dotnet-interactive.fsharp"
    }
   },
   "outputs": [
    {
     "data": {
      "text/html": [
       "<table><thead><tr><th><i>index</i></th><th>value</th></tr></thead><tbody><tr><td>0</td><td><div class=\"dni-plaintext\">3</div></td></tr><tr><td>1</td><td><div class=\"dni-plaintext\">1</div></td></tr><tr><td>2</td><td><div class=\"dni-plaintext\">2</div></td></tr><tr><td>3</td><td><div class=\"dni-plaintext\">4</div></td></tr><tr><td>4</td><td><div class=\"dni-plaintext\">5</div></td></tr></tbody></table>"
      ]
     },
     "metadata": {},
     "output_type": "display_data"
    }
   ],
   "source": [
    "let shuffle next = List.sortWith (fun _ _ -> next())  \n",
    " \n",
    "let rand = System.Random()\n",
    "let next () = rand.Next(-1,1)\n",
    "let shuffle' = shuffle next\n",
    "\n",
    "[1;2;3;4; 5]\n",
    "|> shuffle'"
   ]
  }
 ],
 "metadata": {
  "kernelspec": {
   "display_name": ".NET (C#)",
   "language": "C#",
   "name": ".net-csharp"
  },
  "language_info": {
   "file_extension": ".cs",
   "mimetype": "text/x-csharp",
   "name": "C#",
   "pygments_lexer": "csharp",
   "version": "9.0"
  },
  "orig_nbformat": 4,
  "vscode": {
   "interpreter": {
    "hash": "31f2aee4e71d21fbe5cf8b01ff0e069b9275f58929596ceb00d14d90e3e16cd6"
   }
  }
 },
 "nbformat": 4,
 "nbformat_minor": 2
}
