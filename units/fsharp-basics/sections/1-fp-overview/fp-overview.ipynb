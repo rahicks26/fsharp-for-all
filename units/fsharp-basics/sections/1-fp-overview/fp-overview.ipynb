{
 "cells": [
  {
   "cell_type": "markdown",
   "metadata": {},
   "source": [
    "Functional Programming is a style of programming that tries to improve the quality of code by keeping your code:\n",
    "- Declarative \n",
    "- Immutable \n",
    "- Transparent \n",
    "\n",
    "Let's start our adventure by looking trying to rework a simple sum in a declarative way. Here we sum the numbers from 0 to 20 in an imperative fashion."
   ]
  },
  {
   "cell_type": "code",
   "execution_count": null,
   "metadata": {
    "dotnet_interactive": {
     "language": "javascript"
    },
    "vscode": {
     "languageId": "dotnet-interactive.javascript"
    }
   },
   "outputs": [
    {
     "data": {
      "text/plain": [
       "sume: 210"
      ]
     },
     "metadata": {},
     "output_type": "display_data"
    }
   ],
   "source": [
    "let acc = 0;\n",
    "for(let i = 0; i <= 20; i++){\n",
    "    acc = acc + i;\n",
    "}\n",
    "console.log(`sum: ${acc}`);"
   ]
  },
  {
   "cell_type": "code",
   "execution_count": null,
   "metadata": {
    "dotnet_interactive": {
     "language": "csharp"
    },
    "vscode": {
     "languageId": "dotnet-interactive.csharp"
    }
   },
   "outputs": [
    {
     "name": "stdout",
     "output_type": "stream",
     "text": [
      "sum: 210\n"
     ]
    }
   ],
   "source": [
    "using System;\n",
    "\n",
    "var acc = 0;\n",
    "for (var i=0; i <=20; i++){\n",
    "    acc = acc + i;\n",
    "}\n",
    "\n",
    "Console.WriteLine($\"sum: {acc}\");"
   ]
  },
  {
   "cell_type": "markdown",
   "metadata": {},
   "source": [
    "Now the code above may or may not look simple to you. Either way it is clear that we are telling the system each step that must be completed. When you see code that focuses on smaller steps like this you say it is imperative. This is opposed to code being declarative. Like so:"
   ]
  },
  {
   "cell_type": "code",
   "execution_count": null,
   "metadata": {
    "dotnet_interactive": {
     "language": "fsharp"
    },
    "vscode": {
     "languageId": "dotnet-interactive.fsharp"
    }
   },
   "outputs": [],
   "source": [
    "let acc = \n",
    "    [0..20] \n",
    "    |> List.sum\n",
    "    \n",
    "printfn \"sum: %d\" acc"
   ]
  },
  {
   "cell_type": "markdown",
   "metadata": {},
   "source": [
    "Did you catch what we did here? We told the complier what we wanted instead of how to do it. Now suppose we needed the sum of the squares. Here is how we could do this in an imperative style:"
   ]
  },
  {
   "cell_type": "code",
   "execution_count": null,
   "metadata": {
    "dotnet_interactive": {
     "language": "javascript"
    },
    "vscode": {
     "languageId": "dotnet-interactive.javascript"
    }
   },
   "outputs": [
    {
     "data": {
      "text/plain": [
       "sum: 2870"
      ]
     },
     "metadata": {},
     "output_type": "display_data"
    }
   ],
   "source": [
    "let acc = 0;\n",
    "for(let i = 0; i <= 20; i++){\n",
    "    const square = i * i;\n",
    "    acc = acc + square;\n",
    "}\n",
    "console.log(`sum: ${acc}`);"
   ]
  },
  {
   "cell_type": "code",
   "execution_count": null,
   "metadata": {
    "dotnet_interactive": {
     "language": "csharp"
    },
    "vscode": {
     "languageId": "dotnet-interactive.csharp"
    }
   },
   "outputs": [
    {
     "name": "stdout",
     "output_type": "stream",
     "text": [
      "sum: 2870\n"
     ]
    }
   ],
   "source": [
    "using System;\n",
    "\n",
    "var acc = 0;\n",
    "for (var i=0; i <=20; i++){\n",
    "    var square = i * i;\n",
    "    acc = acc + square;\n",
    "}\n",
    "\n",
    "Console.WriteLine($\"sum: {acc}\");"
   ]
  },
  {
   "cell_type": "markdown",
   "metadata": {},
   "source": [
    "Now for the declarative version:"
   ]
  },
  {
   "cell_type": "code",
   "execution_count": null,
   "metadata": {
    "dotnet_interactive": {
     "language": "fsharp"
    },
    "vscode": {
     "languageId": "dotnet-interactive.fsharp"
    }
   },
   "outputs": [
    {
     "name": "stdout",
     "output_type": "stream",
     "text": [
      "sum: 2870\n"
     ]
    }
   ],
   "source": [
    "let square i = i * i\n",
    "let acc = \n",
    "    [0..20] \n",
    "    |> List.map square\n",
    "    |> List.sum\n",
    "    \n",
    "printfn \"sum: %d\" acc"
   ]
  }
 ],
 "metadata": {
  "kernelspec": {
   "display_name": ".NET (C#)",
   "language": "C#",
   "name": ".net-csharp"
  },
  "language_info": {
   "file_extension": ".cs",
   "mimetype": "text/x-csharp",
   "name": "C#",
   "pygments_lexer": "csharp",
   "version": "9.0"
  },
  "orig_nbformat": 4,
  "vscode": {
   "interpreter": {
    "hash": "31f2aee4e71d21fbe5cf8b01ff0e069b9275f58929596ceb00d14d90e3e16cd6"
   }
  }
 },
 "nbformat": 4,
 "nbformat_minor": 2
}
