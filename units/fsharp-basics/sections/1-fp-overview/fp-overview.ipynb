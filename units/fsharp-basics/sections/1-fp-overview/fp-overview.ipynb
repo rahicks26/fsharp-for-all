{
 "cells": [
  {
   "cell_type": "markdown",
   "metadata": {},
   "source": [
    "# Functional Programming Overview\n",
    "Functional Programming is a style of programming that tries to improve the quality of code by keeping your code:\n",
    "- Declarative \n",
    "- Immutable \n",
    "- Transparent \n",
    "\n",
    "Before we dig into this let's do a quick walk through in javaScript, C# and F# so we have a baseline. The javaScript and C# will be written in a more imperative style while the F# will not. If you know the languages then you will know that both can be written more declarative as well but our goal is to learn F# not FP in another language ;) \n",
    "\n",
    "## Walk through\n",
    "Let's start our adventure by looking at some very basic examples. To get the ball rolling let's say we want to sum all the numbers from 0 to 20."
   ]
  },
  {
   "cell_type": "code",
   "execution_count": null,
   "metadata": {
    "dotnet_interactive": {
     "language": "javascript"
    },
    "vscode": {
     "languageId": "dotnet-interactive.javascript"
    }
   },
   "outputs": [
    {
     "data": {
      "text/plain": [
       "sum: 210"
      ]
     },
     "metadata": {},
     "output_type": "display_data"
    }
   ],
   "source": [
    "let acc = 0;\n",
    "for(let i = 0; i <= 20; i++){\n",
    "    acc = acc + i;\n",
    "}\n",
    "console.log(`sum: ${acc}`);"
   ]
  },
  {
   "cell_type": "code",
   "execution_count": null,
   "metadata": {
    "dotnet_interactive": {
     "language": "csharp"
    },
    "vscode": {
     "languageId": "dotnet-interactive.csharp"
    }
   },
   "outputs": [
    {
     "name": "stdout",
     "output_type": "stream",
     "text": [
      "sum: 210\n"
     ]
    }
   ],
   "source": [
    "using System;\n",
    "\n",
    "var acc = 0;\n",
    "for (var i=0; i <=20; i++){\n",
    "    acc = acc + i;\n",
    "}\n",
    "\n",
    "Console.WriteLine($\"sum: {acc}\");"
   ]
  },
  {
   "cell_type": "code",
   "execution_count": null,
   "metadata": {
    "dotnet_interactive": {
     "language": "fsharp"
    },
    "vscode": {
     "languageId": "dotnet-interactive.fsharp"
    }
   },
   "outputs": [
    {
     "name": "stdout",
     "output_type": "stream",
     "text": [
      "sum: 210\n"
     ]
    }
   ],
   "source": [
    "let acc = \n",
    "    [0..20] \n",
    "    |> List.sum\n",
    "    \n",
    "printfn \"sum: %d\" acc"
   ]
  },
  {
   "cell_type": "markdown",
   "metadata": {},
   "source": [
    "Now let's add a bit more to the example problem. Suppose we need to also square each number."
   ]
  },
  {
   "cell_type": "code",
   "execution_count": null,
   "metadata": {
    "dotnet_interactive": {
     "language": "javascript"
    },
    "vscode": {
     "languageId": "dotnet-interactive.javascript"
    }
   },
   "outputs": [
    {
     "data": {
      "text/plain": [
       "sum: 2870"
      ]
     },
     "metadata": {},
     "output_type": "display_data"
    }
   ],
   "source": [
    "let acc = 0;\n",
    "for(let i = 0; i <= 20; i++){\n",
    "    const square = i * i;\n",
    "    acc = acc + square;\n",
    "}\n",
    "console.log(`sum: ${acc}`);"
   ]
  },
  {
   "cell_type": "code",
   "execution_count": null,
   "metadata": {
    "dotnet_interactive": {
     "language": "csharp"
    },
    "vscode": {
     "languageId": "dotnet-interactive.csharp"
    }
   },
   "outputs": [
    {
     "name": "stdout",
     "output_type": "stream",
     "text": [
      "sum: 2870\n"
     ]
    }
   ],
   "source": [
    "using System;\n",
    "\n",
    "var acc = 0;\n",
    "for (var i=0; i <=20; i++){\n",
    "    var square = i * i;\n",
    "    acc = acc + square;\n",
    "}\n",
    "\n",
    "Console.WriteLine($\"sum: {acc}\");"
   ]
  },
  {
   "cell_type": "code",
   "execution_count": null,
   "metadata": {
    "dotnet_interactive": {
     "language": "fsharp"
    },
    "vscode": {
     "languageId": "dotnet-interactive.fsharp"
    }
   },
   "outputs": [
    {
     "name": "stdout",
     "output_type": "stream",
     "text": [
      "sum: 2870\n"
     ]
    }
   ],
   "source": [
    "let square i = i * i\n",
    "let acc = \n",
    "    [0..20] \n",
    "    |> List.map square\n",
    "    |> List.sum\n",
    "    \n",
    "printfn \"sum: %d\" acc"
   ]
  },
  {
   "cell_type": "markdown",
   "metadata": {},
   "source": [
    "Let's make one more small tweak. Now we want to skip all the odd numbers and then sum the squares."
   ]
  },
  {
   "cell_type": "code",
   "execution_count": null,
   "metadata": {
    "dotnet_interactive": {
     "language": "javascript"
    },
    "vscode": {
     "languageId": "dotnet-interactive.javascript"
    }
   },
   "outputs": [
    {
     "data": {
      "text/plain": [
       "sum: 1540"
      ]
     },
     "metadata": {},
     "output_type": "display_data"
    }
   ],
   "source": [
    "let acc = 0;\n",
    "for(let i = 0; i <= 20; i++){\n",
    "    if(i % 2 === 0){\n",
    "        const square = i * i;\n",
    "        acc = acc + square;\n",
    "    }   \n",
    "}\n",
    "console.log(`sum: ${acc}`);"
   ]
  },
  {
   "cell_type": "code",
   "execution_count": null,
   "metadata": {
    "dotnet_interactive": {
     "language": "csharp"
    },
    "vscode": {
     "languageId": "dotnet-interactive.csharp"
    }
   },
   "outputs": [
    {
     "name": "stdout",
     "output_type": "stream",
     "text": [
      "sum: 1540\n"
     ]
    }
   ],
   "source": [
    "using System;\n",
    "\n",
    "var acc = 0;\n",
    "for (var i=0; i <=20; i++){\n",
    "    if( i % 2 == 0){\n",
    "        var square = i * i;\n",
    "        acc = acc + square;\n",
    "    }\n",
    "}\n",
    "\n",
    "Console.WriteLine($\"sum: {acc}\");"
   ]
  },
  {
   "cell_type": "code",
   "execution_count": null,
   "metadata": {
    "dotnet_interactive": {
     "language": "fsharp"
    },
    "vscode": {
     "languageId": "dotnet-interactive.fsharp"
    }
   },
   "outputs": [
    {
     "name": "stdout",
     "output_type": "stream",
     "text": [
      "sum: 1540\n"
     ]
    }
   ],
   "source": [
    "let square i = i * i\n",
    "let isEven i = i % 2 = 0\n",
    "let acc = \n",
    "    [0..20] \n",
    "    |> List.filter isEven\n",
    "    |> List.map square\n",
    "    |> List.sum\n",
    "    \n",
    "printfn \"sum: %d\" acc"
   ]
  },
  {
   "cell_type": "markdown",
   "metadata": {},
   "source": [
    "Now that we have walked through just a bit of code, let's dig into it more. We want to understand the core concepts at play here.\n",
    "\n",
    "## Core Concepts\n",
    "Our tour for functional programming verses a more imperative approach have shown us that we really do not know\n",
    "\n",
    "### Declarative"
   ]
  }
 ],
 "metadata": {
  "kernelspec": {
   "display_name": ".NET (C#)",
   "language": "C#",
   "name": ".net-csharp"
  },
  "language_info": {
   "file_extension": ".cs",
   "mimetype": "text/x-csharp",
   "name": "C#",
   "pygments_lexer": "csharp",
   "version": "9.0"
  },
  "orig_nbformat": 4,
  "vscode": {
   "interpreter": {
    "hash": "31f2aee4e71d21fbe5cf8b01ff0e069b9275f58929596ceb00d14d90e3e16cd6"
   }
  }
 },
 "nbformat": 4,
 "nbformat_minor": 2
}
